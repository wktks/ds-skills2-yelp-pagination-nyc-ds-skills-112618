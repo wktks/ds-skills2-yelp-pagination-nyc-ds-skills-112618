{
 "cells": [
  {
   "cell_type": "markdown",
   "metadata": {},
   "source": [
    "# API Pagination\n",
    "\n",
    "You've now worked with some API calls, but we have yet to see how to retrieve a more complete dataset in a programmatic manner. Returning to the Yelp API, the [documentation](https://www.yelp.com/developers/documentation/v3/business_search) also provides us details regarding the API limits. These often include details about the number of requests a user is allowed to make within a specified time limit and the maximum number of results to be returned. In this case, we are told that any request has a maximum of 50 results per request and defaults to 20. Furthermore, any search will be limited to a total of 1000 results. To retrieve all 1000 of these results, we would have to page through the results piece by piece, retriving 50 at a time. Processes such as these are often refered to as pagination. Without further ado, let's take a look in practice."
   ]
  },
  {
   "cell_type": "code",
   "execution_count": 1,
   "metadata": {},
   "outputs": [],
   "source": [
    "import requests\n",
    "import pandas as pd"
   ]
  },
  {
   "cell_type": "code",
   "execution_count": 2,
   "metadata": {},
   "outputs": [
    {
     "name": "stdout",
     "output_type": "stream",
     "text": [
      "<Response [200]>\n",
      "<class 'str'>\n",
      "{\"businesses\": [{\"id\": \"jeWIYbgBho9vBDhc5S1xvg\", \"alias\": \"holy-guacamole-astoria\", \"name\": \"Holy Guacamole\", \"image_url\": \"https://s3-media1.fl.yelpcdn.com/bphoto/pMTc8Y0UnRFNh0zDFERfSg/o.jpg\", \"is_closed\": false, \"url\": \"https://www.yelp.com/biz/holy-guacamole-astoria?adjust_creative=xNHtXRpNa-MXGFJJTHHUvw&utm_campaign=yelp_api_v3&utm_medium=api_v3_business_search&utm_source=xNHtXRpNa-MXGFJJTHHUvw\", \"review_count\": 127, \"categories\": [{\"alias\": \"mexican\", \"title\": \"Mexican\"}, {\"alias\": \"bars\", \"title\": \"Bars\"}], \"rating\": 4.0, \"coordinates\": {\"latitude\": 40.756621, \"longitude\": -73.929336}, \"transactions\": [\"delivery\", \"pickup\"], \"price\": \"$$\", \"location\": {\"address1\": \"3555 31st St\", \"address2\": \"\", \"address3\": \"\", \"city\": \"Astoria\", \"zip_code\": \"11106\", \"country\": \"US\", \"state\": \"NY\", \"display_address\": [\"3555 31st St\", \"Astoria, NY 11106\"]}, \"phone\": \"+19178327261\", \"display_phone\": \"(917) 832-7261\", \"distance\": 1290.4274875130448}, {\"id\": \"AUyKmFjpaVLwc3awfUnqgQ\", \"alias\": \"chela\n"
     ]
    }
   ],
   "source": [
    "# client_id = #your id here\n",
    "# api_key = #your key here\n",
    "\n",
    "term = 'Mexican'\n",
    "location = 'Astoria NY'\n",
    "SEARCH_LIMIT = 10\n",
    "\n",
    "url = 'https://api.yelp.com/v3/businesses/search'\n",
    "\n",
    "headers = {\n",
    "        'Authorization': 'Bearer {}'.format(api_key),\n",
    "    }\n",
    "\n",
    "url_params = {\n",
    "                'term': term.replace(' ', '+'),\n",
    "                'location': location.replace(' ', '+'),\n",
    "                'limit': SEARCH_LIMIT\n",
    "            }\n",
    "response = requests.get(url, headers=headers, params=url_params)\n",
    "print(response)\n",
    "print(type(response.text))\n",
    "print(response.text[:1000])"
   ]
  },
  {
   "cell_type": "markdown",
   "metadata": {},
   "source": [
    "# Previewing the Results\n",
    "\n",
    "As before, let's briefly investigate the top level strucutre of our JSON response."
   ]
  },
  {
   "cell_type": "code",
   "execution_count": 3,
   "metadata": {},
   "outputs": [
    {
     "data": {
      "text/plain": [
       "dict_keys(['businesses', 'total', 'region'])"
      ]
     },
     "execution_count": 3,
     "metadata": {},
     "output_type": "execute_result"
    }
   ],
   "source": [
    "response.json().keys()"
   ]
  },
  {
   "cell_type": "markdown",
   "metadata": {},
   "source": [
    "Navigating down a level, we might be curious how many restaurants fit our criteria:"
   ]
  },
  {
   "cell_type": "code",
   "execution_count": 4,
   "metadata": {},
   "outputs": [
    {
     "data": {
      "text/plain": [
       "671"
      ]
     },
     "execution_count": 4,
     "metadata": {},
     "output_type": "execute_result"
    }
   ],
   "source": [
    "response.json()['total']"
   ]
  },
  {
   "cell_type": "markdown",
   "metadata": {},
   "source": [
    "Now of those, we have only retrieved the first 10 results (the search limit we provided.) As the documentation describes, this defaults to 20, and can be up to 50. Observe:"
   ]
  },
  {
   "cell_type": "code",
   "execution_count": 5,
   "metadata": {},
   "outputs": [
    {
     "name": "stdout",
     "output_type": "stream",
     "text": [
      "10\n"
     ]
    }
   ],
   "source": [
    "print(len(response.json()['businesses']))"
   ]
  },
  {
   "cell_type": "markdown",
   "metadata": {},
   "source": [
    "Recall that we can also turn this into our usual Pandas DataFrame:"
   ]
  },
  {
   "cell_type": "code",
   "execution_count": 6,
   "metadata": {},
   "outputs": [
    {
     "name": "stdout",
     "output_type": "stream",
     "text": [
      "10\n"
     ]
    },
    {
     "data": {
      "text/html": [
       "<div>\n",
       "<style scoped>\n",
       "    .dataframe tbody tr th:only-of-type {\n",
       "        vertical-align: middle;\n",
       "    }\n",
       "\n",
       "    .dataframe tbody tr th {\n",
       "        vertical-align: top;\n",
       "    }\n",
       "\n",
       "    .dataframe thead th {\n",
       "        text-align: right;\n",
       "    }\n",
       "</style>\n",
       "<table border=\"1\" class=\"dataframe\">\n",
       "  <thead>\n",
       "    <tr style=\"text-align: right;\">\n",
       "      <th></th>\n",
       "      <th>alias</th>\n",
       "      <th>categories</th>\n",
       "      <th>coordinates</th>\n",
       "      <th>display_phone</th>\n",
       "      <th>distance</th>\n",
       "      <th>id</th>\n",
       "      <th>image_url</th>\n",
       "      <th>is_closed</th>\n",
       "      <th>location</th>\n",
       "      <th>name</th>\n",
       "      <th>phone</th>\n",
       "      <th>price</th>\n",
       "      <th>rating</th>\n",
       "      <th>review_count</th>\n",
       "      <th>transactions</th>\n",
       "      <th>url</th>\n",
       "    </tr>\n",
       "  </thead>\n",
       "  <tbody>\n",
       "    <tr>\n",
       "      <th>0</th>\n",
       "      <td>holy-guacamole-astoria</td>\n",
       "      <td>[{'alias': 'mexican', 'title': 'Mexican'}, {'a...</td>\n",
       "      <td>{'latitude': 40.756621, 'longitude': -73.929336}</td>\n",
       "      <td>(917) 832-7261</td>\n",
       "      <td>1290.427488</td>\n",
       "      <td>jeWIYbgBho9vBDhc5S1xvg</td>\n",
       "      <td>https://s3-media1.fl.yelpcdn.com/bphoto/pMTc8Y...</td>\n",
       "      <td>False</td>\n",
       "      <td>{'address1': '3555 31st St', 'address2': '', '...</td>\n",
       "      <td>Holy Guacamole</td>\n",
       "      <td>+19178327261</td>\n",
       "      <td>$$</td>\n",
       "      <td>4.0</td>\n",
       "      <td>127</td>\n",
       "      <td>[delivery, pickup]</td>\n",
       "      <td>https://www.yelp.com/biz/holy-guacamole-astori...</td>\n",
       "    </tr>\n",
       "    <tr>\n",
       "      <th>1</th>\n",
       "      <td>chela-and-garnacha-astoria</td>\n",
       "      <td>[{'alias': 'mexican', 'title': 'Mexican'}, {'a...</td>\n",
       "      <td>{'latitude': 40.7557171543477, 'longitude': -7...</td>\n",
       "      <td>(917) 832-6876</td>\n",
       "      <td>1316.297661</td>\n",
       "      <td>AUyKmFjpaVLwc3awfUnqgQ</td>\n",
       "      <td>https://s3-media1.fl.yelpcdn.com/bphoto/ChVbA1...</td>\n",
       "      <td>False</td>\n",
       "      <td>{'address1': '33-09 36th Ave', 'address2': '',...</td>\n",
       "      <td>Chela &amp; Garnacha</td>\n",
       "      <td>+19178326876</td>\n",
       "      <td>$$</td>\n",
       "      <td>4.5</td>\n",
       "      <td>312</td>\n",
       "      <td>[delivery, pickup]</td>\n",
       "      <td>https://www.yelp.com/biz/chela-and-garnacha-as...</td>\n",
       "    </tr>\n",
       "    <tr>\n",
       "      <th>2</th>\n",
       "      <td>de-mole-astoria-astoria</td>\n",
       "      <td>[{'alias': 'mexican', 'title': 'Mexican'}]</td>\n",
       "      <td>{'latitude': 40.7625999, 'longitude': -73.9129...</td>\n",
       "      <td>(718) 777-1655</td>\n",
       "      <td>918.092772</td>\n",
       "      <td>jzVv_21473lAMYXIhVbuTA</td>\n",
       "      <td>https://s3-media1.fl.yelpcdn.com/bphoto/v8jXvZ...</td>\n",
       "      <td>False</td>\n",
       "      <td>{'address1': '4220 30th Ave', 'address2': '', ...</td>\n",
       "      <td>De Mole Astoria</td>\n",
       "      <td>+17187771655</td>\n",
       "      <td>$$</td>\n",
       "      <td>4.0</td>\n",
       "      <td>328</td>\n",
       "      <td>[delivery, pickup]</td>\n",
       "      <td>https://www.yelp.com/biz/de-mole-astoria-astor...</td>\n",
       "    </tr>\n",
       "    <tr>\n",
       "      <th>3</th>\n",
       "      <td>mi-espiguita-taqueria-astoria</td>\n",
       "      <td>[{'alias': 'mexican', 'title': 'Mexican'}]</td>\n",
       "      <td>{'latitude': 40.7612033639422, 'longitude': -7...</td>\n",
       "      <td>(718) 777-5648</td>\n",
       "      <td>714.301080</td>\n",
       "      <td>yvva7IYpD6J7OfKlCdQrkw</td>\n",
       "      <td>https://s3-media3.fl.yelpcdn.com/bphoto/_bPuQu...</td>\n",
       "      <td>False</td>\n",
       "      <td>{'address1': '32-44 31st St', 'address2': '', ...</td>\n",
       "      <td>Mi Espiguita Taqueria</td>\n",
       "      <td>+17187775648</td>\n",
       "      <td>$</td>\n",
       "      <td>4.5</td>\n",
       "      <td>101</td>\n",
       "      <td>[delivery, pickup]</td>\n",
       "      <td>https://www.yelp.com/biz/mi-espiguita-taqueria...</td>\n",
       "    </tr>\n",
       "    <tr>\n",
       "      <th>4</th>\n",
       "      <td>maizal-restaurant-and-tequila-bar-astoria-2</td>\n",
       "      <td>[{'alias': 'mexican', 'title': 'Mexican'}, {'a...</td>\n",
       "      <td>{'latitude': 40.759331, 'longitude': -73.926035}</td>\n",
       "      <td>(718) 406-9431</td>\n",
       "      <td>900.451091</td>\n",
       "      <td>QIsFsiOP3H_NkgeWST7GPA</td>\n",
       "      <td>https://s3-media4.fl.yelpcdn.com/bphoto/VOGwDm...</td>\n",
       "      <td>False</td>\n",
       "      <td>{'address1': '3207 34th Ave', 'address2': None...</td>\n",
       "      <td>Maizal Restaurant &amp; Tequila Bar</td>\n",
       "      <td>+17184069431</td>\n",
       "      <td>$$</td>\n",
       "      <td>4.0</td>\n",
       "      <td>267</td>\n",
       "      <td>[delivery, pickup]</td>\n",
       "      <td>https://www.yelp.com/biz/maizal-restaurant-and...</td>\n",
       "    </tr>\n",
       "  </tbody>\n",
       "</table>\n",
       "</div>"
      ],
      "text/plain": [
       "                                         alias  \\\n",
       "0                       holy-guacamole-astoria   \n",
       "1                   chela-and-garnacha-astoria   \n",
       "2                      de-mole-astoria-astoria   \n",
       "3                mi-espiguita-taqueria-astoria   \n",
       "4  maizal-restaurant-and-tequila-bar-astoria-2   \n",
       "\n",
       "                                          categories  \\\n",
       "0  [{'alias': 'mexican', 'title': 'Mexican'}, {'a...   \n",
       "1  [{'alias': 'mexican', 'title': 'Mexican'}, {'a...   \n",
       "2         [{'alias': 'mexican', 'title': 'Mexican'}]   \n",
       "3         [{'alias': 'mexican', 'title': 'Mexican'}]   \n",
       "4  [{'alias': 'mexican', 'title': 'Mexican'}, {'a...   \n",
       "\n",
       "                                         coordinates   display_phone  \\\n",
       "0   {'latitude': 40.756621, 'longitude': -73.929336}  (917) 832-7261   \n",
       "1  {'latitude': 40.7557171543477, 'longitude': -7...  (917) 832-6876   \n",
       "2  {'latitude': 40.7625999, 'longitude': -73.9129...  (718) 777-1655   \n",
       "3  {'latitude': 40.7612033639422, 'longitude': -7...  (718) 777-5648   \n",
       "4   {'latitude': 40.759331, 'longitude': -73.926035}  (718) 406-9431   \n",
       "\n",
       "      distance                      id  \\\n",
       "0  1290.427488  jeWIYbgBho9vBDhc5S1xvg   \n",
       "1  1316.297661  AUyKmFjpaVLwc3awfUnqgQ   \n",
       "2   918.092772  jzVv_21473lAMYXIhVbuTA   \n",
       "3   714.301080  yvva7IYpD6J7OfKlCdQrkw   \n",
       "4   900.451091  QIsFsiOP3H_NkgeWST7GPA   \n",
       "\n",
       "                                           image_url  is_closed  \\\n",
       "0  https://s3-media1.fl.yelpcdn.com/bphoto/pMTc8Y...      False   \n",
       "1  https://s3-media1.fl.yelpcdn.com/bphoto/ChVbA1...      False   \n",
       "2  https://s3-media1.fl.yelpcdn.com/bphoto/v8jXvZ...      False   \n",
       "3  https://s3-media3.fl.yelpcdn.com/bphoto/_bPuQu...      False   \n",
       "4  https://s3-media4.fl.yelpcdn.com/bphoto/VOGwDm...      False   \n",
       "\n",
       "                                            location  \\\n",
       "0  {'address1': '3555 31st St', 'address2': '', '...   \n",
       "1  {'address1': '33-09 36th Ave', 'address2': '',...   \n",
       "2  {'address1': '4220 30th Ave', 'address2': '', ...   \n",
       "3  {'address1': '32-44 31st St', 'address2': '', ...   \n",
       "4  {'address1': '3207 34th Ave', 'address2': None...   \n",
       "\n",
       "                              name         phone price  rating  review_count  \\\n",
       "0                   Holy Guacamole  +19178327261    $$     4.0           127   \n",
       "1                 Chela & Garnacha  +19178326876    $$     4.5           312   \n",
       "2                  De Mole Astoria  +17187771655    $$     4.0           328   \n",
       "3            Mi Espiguita Taqueria  +17187775648     $     4.5           101   \n",
       "4  Maizal Restaurant & Tequila Bar  +17184069431    $$     4.0           267   \n",
       "\n",
       "         transactions                                                url  \n",
       "0  [delivery, pickup]  https://www.yelp.com/biz/holy-guacamole-astori...  \n",
       "1  [delivery, pickup]  https://www.yelp.com/biz/chela-and-garnacha-as...  \n",
       "2  [delivery, pickup]  https://www.yelp.com/biz/de-mole-astoria-astor...  \n",
       "3  [delivery, pickup]  https://www.yelp.com/biz/mi-espiguita-taqueria...  \n",
       "4  [delivery, pickup]  https://www.yelp.com/biz/maizal-restaurant-and...  "
      ]
     },
     "execution_count": 6,
     "metadata": {},
     "output_type": "execute_result"
    }
   ],
   "source": [
    "df = pd.DataFrame(response.json()['businesses'])\n",
    "print(len(df))\n",
    "df.head()"
   ]
  },
  {
   "cell_type": "markdown",
   "metadata": {},
   "source": [
    "We could easily change our request slightly to retrieve a larger number at a time."
   ]
  },
  {
   "cell_type": "code",
   "execution_count": 7,
   "metadata": {},
   "outputs": [
    {
     "name": "stdout",
     "output_type": "stream",
     "text": [
      "<Response [200]>\n",
      "<class 'str'>\n",
      "{\"businesses\": [{\"id\": \"jeWIYbgBho9vBDhc5S1xvg\", \"alias\": \"holy-guacamole-astoria\", \"name\": \"Holy Guacamole\", \"image_url\": \"https://s3-media1.fl.yelpcdn.com/bphoto/pMTc8Y0UnRFNh0zDFERfSg/o.jpg\", \"is_closed\": false, \"url\": \"https://www.yelp.com/biz/holy-guacamole-astoria?adjust_creative=xNHtXRpNa-MXGFJJTHHUvw&utm_campaign=yelp_api_v3&utm_medium=api_v3_business_search&utm_source=xNHtXRpNa-MXGFJJTHHUvw\", \"review_count\": 127, \"categories\": [{\"alias\": \"mexican\", \"title\": \"Mexican\"}, {\"alias\": \"bars\", \"title\": \"Bars\"}], \"rating\": 4.0, \"coordinates\": {\"latitude\": 40.756621, \"longitude\": -73.929336}, \"transactions\": [\"delivery\", \"pickup\"], \"price\": \"$$\", \"location\": {\"address1\": \"3555 31st St\", \"address2\": \"\", \"address3\": \"\", \"city\": \"Astoria\", \"zip_code\": \"11106\", \"country\": \"US\", \"state\": \"NY\", \"display_address\": [\"3555 31st St\", \"Astoria, NY 11106\"]}, \"phone\": \"+19178327261\", \"display_phone\": \"(917) 832-7261\", \"distance\": 1290.4274875130448}, {\"id\": \"AUyKmFjpaVLwc3awfUnqgQ\", \"alias\": \"chela\n"
     ]
    }
   ],
   "source": [
    "# client_id = #your id here\n",
    "# api_key = #your key here\n",
    "\n",
    "term = 'Mexican'\n",
    "location = 'Astoria NY'\n",
    "SEARCH_LIMIT = 50\n",
    "\n",
    "url = 'https://api.yelp.com/v3/businesses/search'\n",
    "\n",
    "headers = {\n",
    "        'Authorization': 'Bearer {}'.format(api_key),\n",
    "    }\n",
    "\n",
    "url_params = {\n",
    "                'term': term.replace(' ', '+'),\n",
    "                'location': location.replace(' ', '+'),\n",
    "                'limit': SEARCH_LIMIT\n",
    "            }\n",
    "response = requests.get(url, headers=headers, params=url_params)\n",
    "print(response)\n",
    "print(type(response.text))\n",
    "print(response.text[:1000])"
   ]
  },
  {
   "cell_type": "markdown",
   "metadata": {},
   "source": [
    "We still have the same number of matching results, but this time have been given the first 50:"
   ]
  },
  {
   "cell_type": "code",
   "execution_count": 8,
   "metadata": {},
   "outputs": [
    {
     "data": {
      "text/plain": [
       "671"
      ]
     },
     "execution_count": 8,
     "metadata": {},
     "output_type": "execute_result"
    }
   ],
   "source": [
    "response.json()['total']"
   ]
  },
  {
   "cell_type": "code",
   "execution_count": 9,
   "metadata": {},
   "outputs": [
    {
     "name": "stdout",
     "output_type": "stream",
     "text": [
      "50\n"
     ]
    }
   ],
   "source": [
    "print(len(response.json()['businesses']))"
   ]
  },
  {
   "cell_type": "markdown",
   "metadata": {},
   "source": [
    "If we want to retrieve more of the results, we page through them by using the offset parameter:"
   ]
  },
  {
   "cell_type": "code",
   "execution_count": 10,
   "metadata": {},
   "outputs": [
    {
     "name": "stdout",
     "output_type": "stream",
     "text": [
      "<Response [200]>\n",
      "<class 'str'>\n",
      "{\"businesses\": [{\"id\": \"DY2wlHlgC5eHITs-d5rT4w\", \"alias\": \"panchos-new-york-2\", \"name\": \"Panchos\", \"image_url\": \"https://s3-media2.fl.yelpcdn.com/bphoto/vwfG2x08lpXbqe3sybnT-Q/o.jpg\", \"is_closed\": false, \"url\": \"https://www.yelp.com/biz/panchos-new-york-2?adjust_creative=xNHtXRpNa-MXGFJJTHHUvw&utm_campaign=yelp_api_v3&utm_medium=api_v3_business_search&utm_source=xNHtXRpNa-MXGFJJTHHUvw\", \"review_count\": 54, \"categories\": [{\"alias\": \"mexican\", \"title\": \"Mexican\"}, {\"alias\": \"breakfast_brunch\", \"title\": \"Breakfast & Brunch\"}], \"rating\": 4.5, \"coordinates\": {\"latitude\": 40.8015, \"longitude\": -73.96534}, \"transactions\": [], \"price\": \"$\", \"location\": {\"address1\": \"964 Amsterdam Ave\", \"address2\": \"\", \"address3\": \"\", \"city\": \"New York\", \"zip_code\": \"10025\", \"country\": \"US\", \"state\": \"NY\", \"display_address\": [\"964 Amsterdam Ave\", \"New York, NY 10025\"]}, \"phone\": \"+12123165400\", \"display_phone\": \"(212) 316-5400\", \"distance\": 5288.3093583250375}, {\"id\": \"bHJWjEg_sGjrlSHIOX6Mqg\", \"alias\": \"two-liz\n"
     ]
    }
   ],
   "source": [
    "# client_id = #your id here\n",
    "# api_key = #your key here\n",
    "\n",
    "term = 'Mexican'\n",
    "location = 'Astoria NY'\n",
    "SEARCH_LIMIT = 50\n",
    "\n",
    "url = 'https://api.yelp.com/v3/businesses/search'\n",
    "\n",
    "headers = {\n",
    "        'Authorization': 'Bearer {}'.format(api_key),\n",
    "    }\n",
    "\n",
    "url_params = {\n",
    "                'term': term.replace(' ', '+'),\n",
    "                'location': location.replace(' ', '+'),\n",
    "                'limit': SEARCH_LIMIT,\n",
    "                'offset': 50\n",
    "            }\n",
    "response2 = requests.get(url, headers=headers, params=url_params)\n",
    "print(response2)\n",
    "print(type(response2.text))\n",
    "print(response2.text[:1000])"
   ]
  },
  {
   "cell_type": "markdown",
   "metadata": {},
   "source": [
    "# Practice\n",
    "\n",
    "With that, you should have the basics to retrive the full result set!"
   ]
  },
  {
   "cell_type": "markdown",
   "metadata": {},
   "source": [
    "## API Call Function\n",
    "\n",
    "Use the example above to write a function to retrieve all of the results (up to the maximum 1000 provided by Yelp) for a given search. Your function should then return the results for these as a single Pandas dataframe."
   ]
  },
  {
   "cell_type": "code",
   "execution_count": null,
   "metadata": {},
   "outputs": [],
   "source": [
    "#Your code here"
   ]
  },
  {
   "cell_type": "markdown",
   "metadata": {},
   "source": [
    "\n",
    "### Pseudocode outline: \n",
    "\n",
    "The function should take in url paramaters in some form. From there, the first call should check the number of results and make successive API calls using the offset parameter to cycle through these results. Each response should be stored as a DataFrame which will then be stitched together.\n",
    "\n",
    "Warning: Making too many API calls can lead to errors. Most APIs require you to slow down your requests to a manageable limit. Make sure to use the time.sleep() method from the time package to make some brief pauses (~5 seconds is more then sufficient) between successive calls."
   ]
  },
  {
   "cell_type": "markdown",
   "metadata": {},
   "source": [
    "## Neighborhood ______ Restaurants\n",
    "\n",
    "Use your function above to retrieve all of the restaurants for a particular cuisine in a neighborhood of your choice."
   ]
  },
  {
   "cell_type": "code",
   "execution_count": null,
   "metadata": {},
   "outputs": [],
   "source": [
    "#Your code here"
   ]
  },
  {
   "cell_type": "markdown",
   "metadata": {},
   "source": [
    "## Exploratory Analysis\n",
    "\n",
    "Take the restaurants from the previous question and do an intial exploratory analysis. At minimum, this should include looking at the distribution of features such as price, rating and number of reviews as well as the relations between these dimensions."
   ]
  },
  {
   "cell_type": "code",
   "execution_count": null,
   "metadata": {},
   "outputs": [],
   "source": [
    "#Your code here"
   ]
  },
  {
   "cell_type": "markdown",
   "metadata": {},
   "source": [
    "## Mapping\n",
    "\n",
    "Look at the initial Yelp example and try and make a map using Folium of the restaurants you retrieved."
   ]
  },
  {
   "cell_type": "code",
   "execution_count": null,
   "metadata": {},
   "outputs": [],
   "source": [
    "#Your code here"
   ]
  }
 ],
 "metadata": {
  "kernelspec": {
   "display_name": "Python 3",
   "language": "python",
   "name": "python3"
  },
  "language_info": {
   "codemirror_mode": {
    "name": "ipython",
    "version": 3
   },
   "file_extension": ".py",
   "mimetype": "text/x-python",
   "name": "python",
   "nbconvert_exporter": "python",
   "pygments_lexer": "ipython3",
   "version": "3.6.6"
  }
 },
 "nbformat": 4,
 "nbformat_minor": 2
}
